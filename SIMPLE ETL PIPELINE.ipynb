{
 "cells": [
  {
   "cell_type": "code",
   "execution_count": 108,
   "id": "7b343e33",
   "metadata": {},
   "outputs": [],
   "source": [
    "\"\"\"\n",
    "Python Extract Transform Load Example\n",
    "\"\"\"\n",
    "\n",
    "# %%\n",
    "import requests\n",
    "import pandas as pd\n",
    "from sqlalchemy import create_engine\n"
   ]
  },
  {
   "cell_type": "code",
   "execution_count": 109,
   "id": "0012cb06",
   "metadata": {},
   "outputs": [],
   "source": [
    "\n",
    "def extract()-> dict:\n",
    "    \"\"\" This API extracts data from\n",
    "    http://universities.hipolabs.com\n",
    "    \"\"\"\n",
    "    API_URL = \"http://universities.hipolabs.com/search?country=United+States\"\n",
    "    data = requests.get(API_URL) \n",
    "    # http request returns a req object( request object server's response to http req i.e status(404/200) ,content,in which type is the web page encoded in eg ascii)\n",
    "    \n",
    "    data=data.json()  #Returns a JSON object of the result \n",
    "    \n",
    "    return data\n"
   ]
  },
  {
   "cell_type": "code",
   "execution_count": 110,
   "id": "c25fd48a",
   "metadata": {},
   "outputs": [],
   "source": [
    "\n",
    "def transform(data:dict) -> pd.DataFrame:\n",
    "    \"\"\" Transforms the dataset into desired structure and filters\"\"\"\n",
    "    df = pd.DataFrame(data)\n",
    "    print(f\"Total Number of universities from API {len(data)}\")\n",
    "    df = df[df[\"name\"].str.contains(\"California\")]\n",
    "    print(f\"Number of universities in california {len(df)}\")\n",
    "    df['domains'] = [','.join(map(str, l)) for l in df['domains']]\n",
    "    df['web_pages'] = [','.join(map(str, l)) for l in df['web_pages']]\n",
    "    df = df.reset_index(drop=True)\n",
    "    return df[[\"domains\",\"country\",\"web_pages\",\"name\"]]\n",
    "\n",
    "\n",
    "\n"
   ]
  },
  {
   "cell_type": "code",
   "execution_count": null,
   "id": "785aff9a",
   "metadata": {},
   "outputs": [],
   "source": []
  },
  {
   "cell_type": "code",
   "execution_count": 111,
   "id": "a1be437c",
   "metadata": {},
   "outputs": [],
   "source": [
    "def load(df:pd.DataFrame)-> None:\n",
    "    \n",
    "    \"\"\" Loads data into a sqllite database\"\"\"\n",
    "    disk_engine = create_engine('sqlite:///my_lite_store.db')\n",
    "    \n",
    "    #The line create_engine('sqlite:///my_lite_store.db') is creating a connection to an SQLite database. \n",
    "    #Here's a breakdown:\n",
    "\n",
    "    #create_engine: This is a function from SQLAlchemy that is used to establish a connection to a database.\n",
    "\n",
    "    #sqlite:///my_lite_store.db:\n",
    "\n",
    "    #sqlite://: Specifies that the database type is SQLite.\n",
    "    #/my_lite_store.db: Refers to the database file name (my_lite_store.db). If this file does not exist, \n",
    "    #    SQLite will create it in the current directory.\n",
    "    \n",
    "    #The third slash (/) in 'sqlite:///my_lite_store.db'):\n",
    "    #separates the URL scheme (sqlite://) from the actual path to the database file.\n",
    "    #In the context of SQLite:\n",
    "    #The first two slashes (//) are part of the URL format standard but do not indicate a file path on their own.\n",
    "    #The third slash (/) indicates the start of the file path relative to the current working directory of the script\n",
    "    #or application.\n",
    "    \n",
    "    #In short, this line is establishing a connection to an SQLite database stored in a file called my_lite_store.\n",
    "    #db, which will be created if it doesn't already exist. \n",
    "    #This connection (or engine) is later used to interact with the database, like saving or retrieving data.\n",
    "    \n",
    "    \n",
    "    \n",
    "    \n",
    "    \n",
    "    \n",
    "    df.to_sql('cal_uni', disk_engine, if_exists='replace')\n",
    "    \n",
    "    \n",
    "    \n",
    "    #Establish Connection:\n",
    "\n",
    "    #The disk_engine object establishes a connection to the SQLite database file my_lite_store.db.\n",
    "    #Write DataFrame to Database:\n",
    "\n",
    "    #The .to_sql() method writes the data from the DataFrame (df) into the database.\n",
    "    #It creates a table named cal_uni in the SQLite database.\n",
    "    #If a table named cal_uni already exists, it will be replaced with the new table containing the data from df."
   ]
  },
  {
   "cell_type": "code",
   "execution_count": 112,
   "id": "8d9d9190",
   "metadata": {},
   "outputs": [
    {
     "name": "stdout",
     "output_type": "stream",
     "text": [
      "Total Number of universities from API 2334\n",
      "Number of universities in california 44\n"
     ]
    }
   ],
   "source": [
    "# %%\n",
    "data = extract()\n",
    "df = transform(data)\n",
    "load(df)\n",
    "\n",
    "\n",
    "# %%"
   ]
  },
  {
   "cell_type": "markdown",
   "id": "9e7097b1",
   "metadata": {},
   "source": [
    "# explaination of the above"
   ]
  },
  {
   "cell_type": "raw",
   "id": "6d1aa8af",
   "metadata": {},
   "source": [
    "Raw data\n",
    "\n",
    "HTTP Requests n its types:-\n",
    "\n",
    "HTTP Requests are the message sent by the client to request the data from the server or to perform some actions. Different HTTP requests are:\n",
    "\n",
    "GET: GET request is used to read/retrieve data from a web server. GET returns an HTTP status code of 200 (OK) if the data is successfully retrieved from the server.\n",
    "POST: POST request is used to send data (file, form data, etc.) to the server. On successful creation, it returns an HTTP status code of 201.\n",
    "PUT: A PUT request is used to modify the data on the server. It replaces the entire content at a particular location with data that is passed in the body payload. If there are no resources that match the request, it will generate one.\n",
    "PATCH: PATCH is similar to PUT request, but the only difference is, it modifies a part of the data. It will only replace the content that you want to update.\n",
    "DELETE: A DELETE request is used to delete the data on the server at a specified location."
   ]
  },
  {
   "cell_type": "raw",
   "id": "799c8d91",
   "metadata": {},
   "source": [
    "The requests module allows you to send HTTP requests using Python.The HTTP request returns a Response Object with all the response data (content, encoding, status, etc)."
   ]
  },
  {
   "cell_type": "raw",
   "id": "c2cd234a",
   "metadata": {},
   "source": [
    "eg :\n",
    "x = requests.get('https://w3schools.com/python/demopage.htm')\n",
    "\n",
    "print(x.text)\n",
    "\n",
    "the above get http request retuns a request object(content,encoding,status(200/404) ..etc)\n",
    "via x.text-> we retrive the content"
   ]
  },
  {
   "cell_type": "markdown",
   "id": "79b3d761",
   "metadata": {},
   "source": [
    "#### *TYPE HINTING"
   ]
  },
  {
   "cell_type": "raw",
   "id": "003bb3ce",
   "metadata": {},
   "source": [
    "#https://www.youtube.com/watch?v=6KidYEtspNc"
   ]
  },
  {
   "cell_type": "markdown",
   "id": "6ed43878",
   "metadata": {},
   "source": [
    "#### *SQL ALCHEMY"
   ]
  },
  {
   "cell_type": "raw",
   "id": "09db11d1",
   "metadata": {},
   "source": [
    "ORM stands for Object-Relational Mapping, a computer science programming technique that allows developers to interact with relational databases using object-oriented programming languages."
   ]
  },
  {
   "cell_type": "markdown",
   "id": "16938d7b",
   "metadata": {},
   "source": [
    "#### SQLite"
   ]
  },
  {
   "cell_type": "raw",
   "id": "833eb148",
   "metadata": {},
   "source": [
    "\n",
    "SQLite Overview: SQLite is an open-source relational database management system widely used in various applications and tools.\n",
    "\n",
    "Database File Location:\n",
    "\n",
    "The SQLite database file is typically stored on the local file system of the device or computer.\n",
    "On Windows, it is often found in the \"AppData\" directory.\n",
    "On Linux and macOS, it might be in the application's installation directory or the user's home directory.\n",
    "File Extensions: SQLite database files commonly use \".db\" or \".sqlite\" extensions, though this can vary.\n",
    "\n",
    "In-Memory Databases: SQLite can also operate entirely in memory, which means the database is not saved to disk and any data is lost when the application closes. This approach can offer faster performance but lacks persistence."
   ]
  },
  {
   "cell_type": "raw",
   "id": "6afa0a3f",
   "metadata": {},
   "source": [
    "https://www.youtube.com/watch?v=jaKMm9njcJc&list=PL4iRawDSyRvVd1V7A45YtAGzDk6ljVPm1"
   ]
  }
 ],
 "metadata": {
  "kernelspec": {
   "display_name": "Python 3 (ipykernel)",
   "language": "python",
   "name": "python3"
  },
  "language_info": {
   "codemirror_mode": {
    "name": "ipython",
    "version": 3
   },
   "file_extension": ".py",
   "mimetype": "text/x-python",
   "name": "python",
   "nbconvert_exporter": "python",
   "pygments_lexer": "ipython3",
   "version": "3.9.13"
  }
 },
 "nbformat": 4,
 "nbformat_minor": 5
}
